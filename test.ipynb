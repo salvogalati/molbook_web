{
 "cells": [
  {
   "cell_type": "code",
   "execution_count": null,
   "id": "804f74a6",
   "metadata": {},
   "outputs": [],
   "source": [
    "import requests\n",
    "import json "
   ]
  },
  {
   "cell_type": "markdown",
   "id": "ed3de4e7",
   "metadata": {},
   "source": [
    "### Molecule / Project API"
   ]
  },
  {
   "cell_type": "markdown",
   "id": "0017da8e",
   "metadata": {},
   "source": [
    "#### Create New molecule"
   ]
  },
  {
   "cell_type": "code",
   "execution_count": 32,
   "id": "65b3771a",
   "metadata": {},
   "outputs": [
    {
     "name": "stdout",
     "output_type": "stream",
     "text": [
      "201\n",
      "{'id': 12, 'project': 2, 'code': 'M999', 'name': 'MOLECULE TEST', 'category': 'CATEGORY TEST', 'quanitity': 999, 'smiles': 'CNO', 'created_at': '2025-07-21T12:33:05.823557Z'}\n"
     ]
    }
   ],
   "source": [
    "project_id = 2\n",
    "data = {\n",
    "    \"code\":     \"M999\",\n",
    "    \"name\":     \"MOLECULE TEST\",\n",
    "    \"category\": \"CATEGORY TEST\",\n",
    "    \"quanitity\": 999,\n",
    "    \"smiles\":   \"CNO\",\n",
    "}\n",
    "\n",
    "headers = {\n",
    "    \"Authorization\": f\"Bearer {access_token}\" \n",
    "}\n",
    "\n",
    "url = f\"http://127.0.0.1:8000/api/projects/{project_id}/molecules/\"\n",
    "\n",
    "resp = requests.post(url, json=data, headers=headers)\n",
    "print(resp.status_code)\n",
    "print(resp.json())\n",
    "\n"
   ]
  },
  {
   "cell_type": "markdown",
   "id": "f7675699",
   "metadata": {},
   "source": [
    "#### Edit Molecule"
   ]
  },
  {
   "cell_type": "code",
   "execution_count": 34,
   "id": "d0c77cd2",
   "metadata": {},
   "outputs": [
    {
     "name": "stdout",
     "output_type": "stream",
     "text": [
      "200\n",
      "{'id': 12, 'project': 2, 'code': 'M999', 'name': 'MOLECULE TEST', 'category': 'ECCOLO', 'quanitity': 998, 'smiles': 'CNO', 'created_at': '2025-07-21T12:33:05.823557Z'}\n"
     ]
    }
   ],
   "source": [
    "molecule_id = 12\n",
    "project_id = 2\n",
    "data = {\n",
    "    \"category\":  \"ECCOLO\",\n",
    "    \"quanitity\": 998,\n",
    "}\n",
    "\n",
    "url = f\"http://127.0.0.1:8000/api/projects/{project_id}/molecules/{molecule_id}/\"\n",
    "\n",
    "resp = requests.patch(\n",
    "    url,\n",
    "    json=data,\n",
    "    headers=headers\n",
    ")\n",
    "print(resp.status_code)\n",
    "print(resp.json())\n"
   ]
  },
  {
   "cell_type": "markdown",
   "id": "f47d513f",
   "metadata": {},
   "source": [
    "#### Delete Molecule"
   ]
  },
  {
   "cell_type": "code",
   "execution_count": 31,
   "id": "155298db",
   "metadata": {},
   "outputs": [
    {
     "name": "stdout",
     "output_type": "stream",
     "text": [
      "204\n"
     ]
    }
   ],
   "source": [
    "molecule_id = 11\n",
    "project_id  = 2\n",
    "url = f\"http://127.0.0.1:8000/api/projects/{project_id}/molecules/{molecule_id}/\"\n",
    "\n",
    "headers = {\n",
    "    \"Authorization\": f\"Bearer {access_token}\"\n",
    "}\n",
    "\n",
    "resp = requests.delete(url, headers=headers)\n",
    "print(resp.status_code)\n",
    "\n"
   ]
  },
  {
   "cell_type": "markdown",
   "id": "f6835035",
   "metadata": {},
   "source": [
    "#### Read all molecules within a project"
   ]
  },
  {
   "cell_type": "code",
   "execution_count": 30,
   "id": "9fbf3270",
   "metadata": {},
   "outputs": [
    {
     "name": "stdout",
     "output_type": "stream",
     "text": [
      "200\n",
      "[{'id': 2, 'project': 2, 'code': 'MOL001', 'name': 'Paracetamolo', 'category': 'Analgesico', 'quanitity': 100, 'smiles': 'CC(=O)NC1=CC=C(O)C=C1', 'created_at': '2025-07-19T18:50:19.067878Z'}, {'id': 3, 'project': 2, 'code': 'MOL002', 'name': 'Ibuprofene', 'category': 'FANS', 'quanitity': 200, 'smiles': 'CC(C)CC1=CC=C(C=C1)C(C)C(=O)O', 'created_at': '2025-07-19T18:50:19.070404Z'}, {'id': 4, 'project': 2, 'code': 'MOL003', 'name': 'Caffeina', 'category': 'Stimolante', 'quanitity': 150, 'smiles': 'CN1C=NC2=C1C(=O)N(C(=O)N2C)C', 'created_at': '2025-07-19T18:50:19.071458Z'}, {'id': 5, 'project': 2, 'code': 'MOL004', 'name': 'Diazepam', 'category': 'Ansiolitico', 'quanitity': 60, 'smiles': 'CN1C(=O)CN=C(C2=CC=CC=C2Cl)C3=CC=CC=C13', 'created_at': '2025-07-19T18:50:19.072486Z'}, {'id': 6, 'project': 2, 'code': 'MOL005', 'name': 'Amoxicillina', 'category': 'Antibiotico', 'quanitity': 80, 'smiles': 'CC1(C)SCC(N1C(=O)C(C2=CC=CC=C2)N)C(=O)O', 'created_at': '2025-07-19T18:50:19.073944Z'}, {'id': 7, 'project': 2, 'code': 'MOL006', 'name': 'Ciprofloxacina', 'category': 'Antibiotico', 'quanitity': 90, 'smiles': 'CC1=CN=C(C=C1C2=CC(=O)C3=C(C=CC=C3O2)F)N4CCNCC4', 'created_at': '2025-07-19T18:50:19.075601Z'}, {'id': 8, 'project': 2, 'code': 'MOL007', 'name': 'Metformina', 'category': 'Antidiabetico', 'quanitity': 300, 'smiles': 'N=C(N)NC(N)=N', 'created_at': '2025-07-19T18:50:19.076570Z'}, {'id': 9, 'project': 2, 'code': 'MOL008', 'name': 'Atorvastatina', 'category': 'prova', 'quanitity': 250, 'smiles': 'CC(C)C[C@H](C(=O)O)CC1=CC=C(C=C1)C(C(=O)O)C2=CC=C(C=C2)F', 'created_at': '2025-07-19T18:50:19.077431Z'}, {'id': 11, 'project': 2, 'code': 'M999', 'name': 'test', 'category': 'ECCOLO', 'quanitity': 999, 'smiles': 'CNO', 'created_at': '2025-07-21T11:56:16.735552Z'}]\n"
     ]
    }
   ],
   "source": [
    "project_id = 2\n",
    "url = f\"http://127.0.0.1:8000/api/projects/{project_id}/molecules/\"\n",
    "\n",
    "headers = {\n",
    "    \"Authorization\": f\"Bearer {access_token}\"\n",
    "}\n",
    "\n",
    "resp = requests.get(url, headers=headers)\n",
    "print(resp.status_code)\n",
    "print(resp.json())\n",
    "\n",
    "\n"
   ]
  },
  {
   "cell_type": "markdown",
   "id": "35768f3c",
   "metadata": {},
   "source": [
    "### Access API"
   ]
  },
  {
   "cell_type": "markdown",
   "id": "4feba614",
   "metadata": {},
   "source": [
    "#### Register"
   ]
  },
  {
   "cell_type": "code",
   "execution_count": null,
   "id": "249f4a4b",
   "metadata": {},
   "outputs": [],
   "source": [
    "# register\n",
    "\n",
    "url = \"http://127.0.0.1:8000/api/auth/register/\"\n",
    "payload = {\n",
    "    \"email\": \"salvo_simos@hotmail.it\",\n",
    "    \"password\": \"secret123\",\n",
    "    \"first_name\": \"MolBook\",\n",
    "    \"last_name\": \"Pro\",\n",
    "    \"date_of_birth\": \"1985-10-11\",\n",
    "    \"gender\": \"M\"\n",
    "}\n",
    "\n",
    "resp = requests.post(url, json=payload, headers={\"Accept-Language\": \"en-us\"})\n",
    "print(resp.status_code)\n",
    "print(resp.json()) \n"
   ]
  },
  {
   "cell_type": "code",
   "execution_count": null,
   "id": "3f300cff",
   "metadata": {},
   "outputs": [],
   "source": []
  },
  {
   "cell_type": "markdown",
   "id": "ec7002e7",
   "metadata": {},
   "source": [
    "#### Login"
   ]
  },
  {
   "cell_type": "code",
   "execution_count": null,
   "id": "4c9020c2",
   "metadata": {},
   "outputs": [],
   "source": [
    "\n",
    "url = \"http://127.0.0.1:8000/api/auth/login/\"\n",
    "username, password = \"demo@molbook.it\", \"django\" \n",
    "#username, password = \"salvo_simos@hotmail.it\", \"ciaociao\" \n",
    "\n",
    "payload = {\n",
    "    \"email\":    username,   \n",
    "    \"password\": password,\n",
    "}\n",
    "\n",
    "resp_login = requests.post(url, json=payload)\n",
    "print(\"Status:\", resp_login.status_code)\n",
    "print(\"JSON:\", resp_login.json())\n",
    "access_token = resp_login.json()[\"access\"]\n"
   ]
  },
  {
   "cell_type": "code",
   "execution_count": null,
   "id": "4ec78608",
   "metadata": {},
   "outputs": [],
   "source": [
    "# resend verification email\n",
    "\n",
    "url = \"http://127.0.0.1:8000/api/auth/registration/resend-email/\"\n",
    "payload = {\n",
    "    \"email\": \"salvo_simos@hotmail.it\"\n",
    "}\n",
    "\n",
    "resp = requests.post(url, json=payload)\n",
    "print(\"Status:\", resp.status_code)\n",
    "print(\"JSON:\", resp.json())"
   ]
  },
  {
   "cell_type": "code",
   "execution_count": null,
   "id": "6ee15058",
   "metadata": {},
   "outputs": [],
   "source": [
    "#verify email\n",
    "\n",
    "url = \"http://127.0.0.1:8000/api/auth/registration/verify-email/\"\n",
    "payload = {\"key\": \"OQ:1uV3nH:c3nxZ64kU3ZlIhRR5mzpf3ODZAIfv7KwerpJGS-x_Sk\"}\n",
    "\n",
    "resp = requests.post(url, json=payload)\n",
    "print(\"Status:\", resp.status_code)\n",
    "print(\"JSON:\", resp.json())"
   ]
  },
  {
   "cell_type": "code",
   "execution_count": null,
   "id": "d57294c2",
   "metadata": {},
   "outputs": [],
   "source": [
    "#Reset password\n",
    "url = \"http://127.0.0.1:8000/api/auth/password/reset-pwd/\"\n",
    "payload = {\"email\": \"kelly.perrone@hotmail.it\"}\n",
    "\n",
    "resp = requests.post(url, json=payload)\n",
    "print(\"Status:\", resp.status_code)\n",
    "print(\"JSON:\", resp.json())"
   ]
  },
  {
   "cell_type": "code",
   "execution_count": null,
   "id": "80d4178d",
   "metadata": {},
   "outputs": [],
   "source": [
    "#Change password\n",
    "url = \"http://127.0.0.1:8000/api/auth/password/reset/confirm/\"\n",
    "payload = {\n",
    "    \"uid\":       \"j\",\n",
    "    \"token\":        \"cs9wg9-fdb8c06148fd221e29bd2b04f44c933c\",\n",
    "    \"new_password1\":\"ciaociao\",\n",
    "    \"new_password2\":\"ciaociao\"\n",
    "}\n",
    "\n",
    "resp = requests.post(url, json=payload)\n",
    "print(\"Status:\", resp.status_code)\n",
    "print(\"JSON:\", resp.json())"
   ]
  },
  {
   "cell_type": "code",
   "execution_count": null,
   "id": "628c72d5",
   "metadata": {},
   "outputs": [],
   "source": [
    "#Delete user\n",
    "url = \"http://127.0.0.1:8000/api/users/14/\"\n",
    "resp = requests.delete(\n",
    "    url,\n",
    "    headers={\n",
    "        \"Authorization\": f\"Bearer {resp_login.json()['access']}\"\n",
    "    },\n",
    "    timeout=10\n",
    ")\n",
    "print(\"Status:\", resp.status_code)\n",
    "print(\"JSON:\", resp.json())"
   ]
  },
  {
   "cell_type": "code",
   "execution_count": null,
   "id": "e8fd056b",
   "metadata": {},
   "outputs": [],
   "source": [
    "#Data of the user\n",
    "url = \"http://localhost:8000/api/auth/me/\"\n",
    "resp = requests.get(\n",
    "    url,\n",
    "    headers={\n",
    "        \"Authorization\": f\"Bearer {resp_login.json()['access']}\"\n",
    "    },\n",
    "    timeout=10\n",
    ")\n",
    "print(\"Status:\", resp.status_code)\n",
    "print(\"JSON:\", resp.json())"
   ]
  },
  {
   "cell_type": "code",
   "execution_count": null,
   "id": "417f2220",
   "metadata": {},
   "outputs": [],
   "source": []
  }
 ],
 "metadata": {
  "kernelspec": {
   "display_name": "aidenti",
   "language": "python",
   "name": "python3"
  },
  "language_info": {
   "codemirror_mode": {
    "name": "ipython",
    "version": 3
   },
   "file_extension": ".py",
   "mimetype": "text/x-python",
   "name": "python",
   "nbconvert_exporter": "python",
   "pygments_lexer": "ipython3",
   "version": "3.13.2"
  }
 },
 "nbformat": 4,
 "nbformat_minor": 5
}
