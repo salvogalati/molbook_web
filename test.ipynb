{
 "cells": [
  {
   "cell_type": "code",
   "execution_count": 1,
   "id": "804f74a6",
   "metadata": {},
   "outputs": [],
   "source": [
    "# Assicurati di aver fatto pip install requests\n",
    "import requests\n",
    "import json\n",
    "\n",
    "# URL base della tua API\n",
    "BASE_URL = \"http://127.0.0.1:8000/api/auth\"\n"
   ]
  },
  {
   "cell_type": "code",
   "execution_count": 2,
   "id": "d5038dcf",
   "metadata": {},
   "outputs": [],
   "source": [
    "def pretty_response(r):\n",
    "    print(f\"→ Status: {r.status_code}\")\n",
    "    try:\n",
    "        body = r.json()\n",
    "        print(\"→ Body:\", json.dumps(body, indent=2))\n",
    "    except ValueError:\n",
    "        print(\"→ Body non JSON:\", r.text)\n",
    "    print(\"-\" * 50)\n"
   ]
  },
  {
   "cell_type": "code",
   "execution_count": 3,
   "id": "1ea851f7",
   "metadata": {},
   "outputs": [
    {
     "name": "stdout",
     "output_type": "stream",
     "text": [
      "→ Status: 201\n",
      "→ Body: {\n",
      "  \"username\": \"notebook_user\",\n",
      "  \"email\": \"notebook@example.com\"\n",
      "}\n",
      "--------------------------------------------------\n"
     ]
    }
   ],
   "source": [
    "# Dati di prova per la registrazione\n",
    "payload = {\n",
    "    \"username\": \"notebook_user\",\n",
    "    \"email\": \"notebook@example.com\",\n",
    "    \"password\": \"TestPass123\"\n",
    "}\n",
    "\n",
    "r = requests.post(f\"{BASE_URL}/register/\", json=payload)\n",
    "pretty_response(r)\n",
    "\n",
    "# Controllo automatico\n",
    "assert r.status_code == 201, \"La registrazione dovrebbe restituire 201 CREATED\"\n",
    "assert r.json().get(\"username\") == payload[\"username\"]\n"
   ]
  },
  {
   "cell_type": "code",
   "execution_count": 5,
   "id": "4a7b7f93",
   "metadata": {},
   "outputs": [
    {
     "name": "stdout",
     "output_type": "stream",
     "text": [
      "201\n",
      "{'detail': 'Verification e-mail sent.'}\n"
     ]
    }
   ],
   "source": [
    "r = requests.post(\"http://127.0.0.1:8000/api/auth/registration/\", json={\n",
    "    \"username\": \"utenteapi\",\n",
    "    \"email\": \"apiuser@example.com\",\n",
    "    \"password1\": \"SuperSecurePass123\",\n",
    "    \"password2\": \"SuperSecurePass123\"\n",
    "})\n",
    "print(r.status_code)\n",
    "print(r.json())\n"
   ]
  },
  {
   "cell_type": "code",
   "execution_count": null,
   "id": "53efbcf8",
   "metadata": {},
   "outputs": [],
   "source": []
  }
 ],
 "metadata": {
  "kernelspec": {
   "display_name": "aidenti",
   "language": "python",
   "name": "python3"
  },
  "language_info": {
   "codemirror_mode": {
    "name": "ipython",
    "version": 3
   },
   "file_extension": ".py",
   "mimetype": "text/x-python",
   "name": "python",
   "nbconvert_exporter": "python",
   "pygments_lexer": "ipython3",
   "version": "3.13.2"
  }
 },
 "nbformat": 4,
 "nbformat_minor": 5
}
