{
 "cells": [
  {
   "cell_type": "code",
   "execution_count": 1,
   "id": "804f74a6",
   "metadata": {},
   "outputs": [],
   "source": [
    "import requests\n",
    "import json "
   ]
  },
  {
   "cell_type": "code",
   "execution_count": 162,
   "id": "249f4a4b",
   "metadata": {},
   "outputs": [
    {
     "name": "stdout",
     "output_type": "stream",
     "text": [
      "201\n",
      "{'detail': 'Verification e-mail sent.'}\n"
     ]
    }
   ],
   "source": [
    "# register\n",
    "\n",
    "url = \"http://127.0.0.1:8000/api/auth/register/\"\n",
    "payload = {\n",
    "    \"email\": \"salvo_simos@hotmail.it\",\n",
    "    \"password\": \"secret123\",\n",
    "    \"first_name\": \"MolBook\",\n",
    "    \"last_name\": \"Pro\",\n",
    "    \"date_of_birth\": \"1985-10-11\",\n",
    "    \"gender\": \"M\"\n",
    "}\n",
    "\n",
    "resp = requests.post(url, json=payload, headers={\"Accept-Language\": \"en-us\"})\n",
    "print(resp.status_code)\n",
    "print(resp.json()) \n"
   ]
  },
  {
   "cell_type": "code",
   "execution_count": null,
   "id": "3f300cff",
   "metadata": {},
   "outputs": [],
   "source": []
  },
  {
   "cell_type": "code",
   "execution_count": 167,
   "id": "4c9020c2",
   "metadata": {},
   "outputs": [
    {
     "name": "stdout",
     "output_type": "stream",
     "text": [
      "Status: 400\n",
      "JSON: {'non_field_errors': ['E-mail is not verified.']}\n"
     ]
    }
   ],
   "source": [
    "#Login\n",
    "\n",
    "url = \"http://127.0.0.1:8000/api/auth/login/\"\n",
    "payload = {\n",
    "    \"email\":    \"salvo_simos@hotmail.it\",   # ← qui la tua email\n",
    "    \"password\": \"secret123\"\n",
    "}\n",
    "\n",
    "resp_login = requests.post(url, json=payload)\n",
    "print(\"Status:\", resp_login.status_code)\n",
    "print(\"JSON:\", resp_login.json())\n"
   ]
  },
  {
   "cell_type": "code",
   "execution_count": 166,
   "id": "4ec78608",
   "metadata": {},
   "outputs": [
    {
     "name": "stdout",
     "output_type": "stream",
     "text": [
      "Status: 200\n",
      "JSON: {'detail': 'ok'}\n"
     ]
    }
   ],
   "source": [
    "# resend verification email\n",
    "\n",
    "url = \"http://127.0.0.1:8000/api/auth/registration/resend-email/\"\n",
    "payload = {\n",
    "    \"email\": \"salvo_simos@hotmail.it\"\n",
    "}\n",
    "\n",
    "resp = requests.post(url, json=payload)\n",
    "print(\"Status:\", resp.status_code)\n",
    "print(\"JSON:\", resp.json())"
   ]
  },
  {
   "cell_type": "code",
   "execution_count": 7,
   "id": "6ee15058",
   "metadata": {},
   "outputs": [
    {
     "name": "stdout",
     "output_type": "stream",
     "text": [
      "Status: 200\n",
      "JSON: {'detail': 'ok'}\n"
     ]
    }
   ],
   "source": [
    "#verify email\n",
    "\n",
    "url = \"http://127.0.0.1:8000/api/auth/registration/verify-email/\"\n",
    "payload = {\"key\": \"OQ:1uV3nH:c3nxZ64kU3ZlIhRR5mzpf3ODZAIfv7KwerpJGS-x_Sk\"}\n",
    "\n",
    "resp = requests.post(url, json=payload)\n",
    "print(\"Status:\", resp.status_code)\n",
    "print(\"JSON:\", resp.json())"
   ]
  },
  {
   "cell_type": "code",
   "execution_count": 203,
   "id": "d57294c2",
   "metadata": {},
   "outputs": [
    {
     "name": "stdout",
     "output_type": "stream",
     "text": [
      "Status: 200\n",
      "JSON: {'detail': 'Password reset e-mail has been sent.'}\n"
     ]
    }
   ],
   "source": [
    "#Reset password\n",
    "url = \"http://127.0.0.1:8000/api/auth/password/reset-pwd/\"\n",
    "payload = {\"email\": \"salvo_simos@hotmail.it\"}\n",
    "\n",
    "resp = requests.post(url, json=payload)\n",
    "print(\"Status:\", resp.status_code)\n",
    "print(\"JSON:\", resp.json())"
   ]
  },
  {
   "cell_type": "code",
   "execution_count": 199,
   "id": "68d980d5",
   "metadata": {},
   "outputs": [
    {
     "data": {
      "text/plain": [
       "'MTc'"
      ]
     },
     "execution_count": 199,
     "metadata": {},
     "output_type": "execute_result"
    }
   ],
   "source": [
    "from django.utils.http import urlsafe_base64_encode\n",
    "from django.utils.encoding import force_bytes\n",
    "\n",
    "urlsafe_base64_encode(force_bytes(17))\n"
   ]
  },
  {
   "cell_type": "code",
   "execution_count": 204,
   "id": "80d4178d",
   "metadata": {},
   "outputs": [
    {
     "name": "stdout",
     "output_type": "stream",
     "text": [
      "Status: 200\n",
      "JSON: {'detail': 'Password has been reset with the new password.'}\n"
     ]
    }
   ],
   "source": [
    "#Change password\n",
    "url = \"http://127.0.0.1:8000/api/auth/password/reset/confirm/\"\n",
    "payload = {\n",
    "    \"uid\":       \"h\",\n",
    "    \"token\":        \"cs6jbm-f61e6f68900fe78e2187e0543917b669\",\n",
    "    \"new_password1\":\"123456\",\n",
    "    \"new_password2\":\"123456\"\n",
    "}\n",
    "\n",
    "resp = requests.post(url, json=payload)\n",
    "print(\"Status:\", resp.status_code)\n",
    "print(\"JSON:\", resp.json())"
   ]
  },
  {
   "cell_type": "code",
   "execution_count": null,
   "id": "169db115",
   "metadata": {},
   "outputs": [
    {
     "ename": "SyntaxError",
     "evalue": "invalid syntax (1739150391.py, line 1)",
     "output_type": "error",
     "traceback": [
      "  \u001b[36mCell\u001b[39m\u001b[36m \u001b[39m\u001b[32mIn[183]\u001b[39m\u001b[32m, line 1\u001b[39m\n\u001b[31m    \u001b[39m\u001b[31mhttp://localhost:5173/reset-password/17/cs6i5v-d88a01196cbc085c041e20e1674db430\u001b[39m\n         ^\n\u001b[31mSyntaxError\u001b[39m\u001b[31m:\u001b[39m invalid syntax\n"
     ]
    }
   ],
   "source": [
    "http://localhost:5173/reset-password/h/cs6jbm-f61e6f68900fe78e2187e0543917b669"
   ]
  },
  {
   "cell_type": "code",
   "execution_count": 160,
   "id": "628c72d5",
   "metadata": {},
   "outputs": [
    {
     "name": "stdout",
     "output_type": "stream",
     "text": [
      "Status: 200\n",
      "JSON: {'detail': 'Utente eliminato con successo.'}\n"
     ]
    }
   ],
   "source": [
    "#Delete user\n",
    "url = \"http://127.0.0.1:8000/api/users/14/\"\n",
    "resp = requests.delete(\n",
    "    url,\n",
    "    headers={\n",
    "        \"Authorization\": f\"Bearer {resp_login.json()['access']}\"\n",
    "    },\n",
    "    timeout=10\n",
    ")\n",
    "print(\"Status:\", resp.status_code)\n",
    "print(\"JSON:\", resp.json())"
   ]
  },
  {
   "cell_type": "code",
   "execution_count": null,
   "id": "e8fd056b",
   "metadata": {},
   "outputs": [],
   "source": []
  }
 ],
 "metadata": {
  "kernelspec": {
   "display_name": "aidenti",
   "language": "python",
   "name": "python3"
  },
  "language_info": {
   "codemirror_mode": {
    "name": "ipython",
    "version": 3
   },
   "file_extension": ".py",
   "mimetype": "text/x-python",
   "name": "python",
   "nbconvert_exporter": "python",
   "pygments_lexer": "ipython3",
   "version": "3.13.2"
  }
 },
 "nbformat": 4,
 "nbformat_minor": 5
}
