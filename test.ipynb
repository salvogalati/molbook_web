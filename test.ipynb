{
 "cells": [
  {
   "cell_type": "code",
   "execution_count": null,
   "id": "804f74a6",
   "metadata": {},
   "outputs": [],
   "source": [
    "import requests\n",
    "import json "
   ]
  },
  {
   "cell_type": "code",
   "execution_count": 45,
   "id": "249f4a4b",
   "metadata": {},
   "outputs": [
    {
     "name": "stdout",
     "output_type": "stream",
     "text": [
      "400\n",
      "{'email': ['Questa email è già registrata.']}\n"
     ]
    }
   ],
   "source": [
    "# register\n",
    "\n",
    "url = \"http://127.0.0.1:8000/api/auth/register/\"\n",
    "payload = {\n",
    "    \"email\": \"pluto2@example.com\",\n",
    "    \"password\": \"secret123\",\n",
    "    \"first_name\": \"Pluto\",\n",
    "    \"last_name\": \"Verdi\",\n",
    "    \"date_of_birth\": \"1985-10-11\",\n",
    "    \"gender\": \"M\"\n",
    "}\n",
    "\n",
    "resp = requests.post(url, json=payload)\n",
    "print(resp.status_code)\n",
    "print(resp.json()) \n"
   ]
  },
  {
   "cell_type": "code",
   "execution_count": 51,
   "id": "4c9020c2",
   "metadata": {},
   "outputs": [
    {
     "name": "stdout",
     "output_type": "stream",
     "text": [
      "Status: 400\n",
      "JSON: {'non_field_errors': ['Unable to log in with provided credentials.']}\n"
     ]
    }
   ],
   "source": [
    "#Login\n",
    "\n",
    "url = \"http://127.0.0.1:8000/api/auth/login/\"\n",
    "payload = {\n",
    "    \"email\":    \"pluto@example.com\",   # ← qui la tua email\n",
    "    \"password\": \"secret123\"\n",
    "}\n",
    "\n",
    "resp = requests.post(url, json=payload)\n",
    "print(\"Status:\", resp.status_code)\n",
    "print(\"JSON:\", resp.json())\n"
   ]
  },
  {
   "cell_type": "code",
   "execution_count": 40,
   "id": "4ec78608",
   "metadata": {},
   "outputs": [
    {
     "name": "stdout",
     "output_type": "stream",
     "text": [
      "Status: 200\n",
      "JSON: {'detail': 'ok'}\n"
     ]
    }
   ],
   "source": [
    "# resend verification email\n",
    "\n",
    "url = \"http://127.0.0.1:8000/api/auth/registration/resend-email/\"\n",
    "payload = {\n",
    "    \"email\": \"pluto1@example.com\"\n",
    "}\n",
    "\n",
    "resp = requests.post(url, json=payload)\n",
    "print(\"Status:\", resp.status_code)\n",
    "print(\"JSON:\", resp.json())"
   ]
  },
  {
   "cell_type": "code",
   "execution_count": null,
   "id": "6ee15058",
   "metadata": {},
   "outputs": [
    {
     "name": "stdout",
     "output_type": "stream",
     "text": [
      "Status: 200\n",
      "JSON: {'detail': 'ok'}\n"
     ]
    }
   ],
   "source": [
    "#verify email\n",
    "\n",
    "url = \"http://127.0.0.1:8000/api/auth/registration/verify-email/\"\n",
    "payload = {\"key\": \"Mg:1uURoW:pI4tE7qtUE7umLyE_CEPrQDjDz5TcF9ssPCKOs09COI\"}\n",
    "\n",
    "resp = requests.post(url, json=payload)\n",
    "print(\"Status:\", resp.status_code)\n",
    "print(\"JSON:\", resp.json())"
   ]
  },
  {
   "cell_type": "code",
   "execution_count": 47,
   "id": "d57294c2",
   "metadata": {},
   "outputs": [
    {
     "name": "stdout",
     "output_type": "stream",
     "text": [
      "Status: 200\n",
      "JSON: {'detail': 'Password reset e-mail has been sent.'}\n"
     ]
    }
   ],
   "source": [
    "url = \"http://127.0.0.1:8000/api/auth/password/reset/\"\n",
    "payload = {\"email\": \"pluto@example.com\"}\n",
    "\n",
    "resp = requests.post(url, json=payload)\n",
    "print(\"Status:\", resp.status_code)\n",
    "print(\"JSON:\", resp.json())"
   ]
  },
  {
   "cell_type": "code",
   "execution_count": 49,
   "id": "80d4178d",
   "metadata": {},
   "outputs": [
    {
     "name": "stdout",
     "output_type": "stream",
     "text": [
      "Status: 200\n",
      "JSON: {'detail': 'Password has been reset with the new password.'}\n"
     ]
    }
   ],
   "source": [
    "url = \"http://127.0.0.1:8000/api/auth/password/reset/confirm/\"\n",
    "payload = {\n",
    "    \"uid\":       \"1\",\n",
    "    \"token\":        \"crym0f-92809a277d4a1b9ee9e3180772b6a4c5\",\n",
    "    \"new_password1\":\"NuovaP@ss123\",\n",
    "    \"new_password2\":\"NuovaP@ss123\"\n",
    "}\n",
    "\n",
    "resp = requests.post(url, json=payload)\n",
    "print(\"Status:\", resp.status_code)\n",
    "print(\"JSON:\", resp.json())"
   ]
  },
  {
   "cell_type": "code",
   "execution_count": null,
   "id": "842044d1",
   "metadata": {},
   "outputs": [],
   "source": []
  }
 ],
 "metadata": {
  "kernelspec": {
   "display_name": "aidenti",
   "language": "python",
   "name": "python3"
  },
  "language_info": {
   "codemirror_mode": {
    "name": "ipython",
    "version": 3
   },
   "file_extension": ".py",
   "mimetype": "text/x-python",
   "name": "python",
   "nbconvert_exporter": "python",
   "pygments_lexer": "ipython3",
   "version": "3.13.2"
  }
 },
 "nbformat": 4,
 "nbformat_minor": 5
}
